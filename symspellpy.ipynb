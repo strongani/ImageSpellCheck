{
 "cells": [
  {
   "cell_type": "code",
   "execution_count": 1,
   "metadata": {
    "scrolled": false
   },
   "outputs": [
    {
     "ename": "error",
     "evalue": "OpenCV(3.4.3) C:\\projects\\opencv-python\\opencv\\modules\\photo\\src\\denoising.cpp:183: error: (-5:Bad argument) Type of input image should be CV_8UC3 or CV_8UC4! in function 'cv::fastNlMeansDenoisingColored'\n",
     "output_type": "error",
     "traceback": [
      "\u001b[1;31m---------------------------------------------------------------------------\u001b[0m",
      "\u001b[1;31merror\u001b[0m                                     Traceback (most recent call last)",
      "\u001b[1;32m<ipython-input-1-7fb6b0dedc85>\u001b[0m in \u001b[0;36m<module>\u001b[1;34m()\u001b[0m\n\u001b[0;32m     59\u001b[0m \u001b[1;33m\u001b[0m\u001b[0m\n\u001b[0;32m     60\u001b[0m \u001b[1;32mif\u001b[0m \u001b[0m__name__\u001b[0m \u001b[1;33m==\u001b[0m \u001b[1;34m\"__main__\"\u001b[0m\u001b[1;33m:\u001b[0m\u001b[1;33m\u001b[0m\u001b[0m\n\u001b[1;32m---> 61\u001b[1;33m     \u001b[0mmain\u001b[0m\u001b[1;33m(\u001b[0m\u001b[1;33m)\u001b[0m\u001b[1;33m\u001b[0m\u001b[0m\n\u001b[0m",
      "\u001b[1;32m<ipython-input-1-7fb6b0dedc85>\u001b[0m in \u001b[0;36mmain\u001b[1;34m()\u001b[0m\n\u001b[0;32m     10\u001b[0m \u001b[1;33m\u001b[0m\u001b[0m\n\u001b[0;32m     11\u001b[0m     \u001b[0mpytesseract\u001b[0m\u001b[1;33m.\u001b[0m\u001b[0mpytesseract\u001b[0m\u001b[1;33m.\u001b[0m\u001b[0mtesseract_cmd\u001b[0m \u001b[1;33m=\u001b[0m \u001b[1;34mr'C:\\Users\\Ani\\AppData\\Local\\Tesseract-OCR\\tesseract.exe'\u001b[0m\u001b[1;33m\u001b[0m\u001b[0m\n\u001b[1;32m---> 12\u001b[1;33m     \u001b[0mtext\u001b[0m \u001b[1;33m=\u001b[0m \u001b[1;33m(\u001b[0m\u001b[0mpytesseract\u001b[0m\u001b[1;33m.\u001b[0m\u001b[0mimage_to_string\u001b[0m\u001b[1;33m(\u001b[0m\u001b[0mImage\u001b[0m\u001b[1;33m.\u001b[0m\u001b[0mfromarray\u001b[0m\u001b[1;33m(\u001b[0m\u001b[0mnp\u001b[0m\u001b[1;33m.\u001b[0m\u001b[0marray\u001b[0m\u001b[1;33m(\u001b[0m\u001b[0mdankmemes\u001b[0m\u001b[1;33m.\u001b[0m\u001b[0mfastNlMeansDenoisingColored\u001b[0m\u001b[1;33m(\u001b[0m\u001b[0mdankmemes\u001b[0m\u001b[1;33m.\u001b[0m\u001b[0mimread\u001b[0m\u001b[1;33m(\u001b[0m\u001b[1;34mr\"C:\\Users\\Ani\\Documents\\Python Scripts\\image121.png\"\u001b[0m\u001b[1;33m)\u001b[0m\u001b[1;33m,\u001b[0m \u001b[1;32mNone\u001b[0m\u001b[1;33m,\u001b[0m \u001b[1;36m10\u001b[0m\u001b[1;33m,\u001b[0m \u001b[1;36m10\u001b[0m\u001b[1;33m,\u001b[0m \u001b[1;36m7\u001b[0m\u001b[1;33m,\u001b[0m \u001b[1;36m21\u001b[0m\u001b[1;33m)\u001b[0m\u001b[1;33m)\u001b[0m\u001b[1;33m)\u001b[0m\u001b[1;33m)\u001b[0m\u001b[1;33m)\u001b[0m\u001b[1;33m\u001b[0m\u001b[0m\n\u001b[0m\u001b[0;32m     13\u001b[0m \u001b[1;31m#   text = (pytesseract.image_to_string(Image.open(r\"C:\\Users\\Ani\\Documents\\Python Scripts\\image121.png\")))\u001b[0m\u001b[1;33m\u001b[0m\u001b[1;33m\u001b[0m\u001b[0m\n\u001b[0;32m     14\u001b[0m     \u001b[1;33m(\u001b[0m\u001b[0mImage\u001b[0m\u001b[1;33m.\u001b[0m\u001b[0mfromarray\u001b[0m\u001b[1;33m(\u001b[0m\u001b[0mnp\u001b[0m\u001b[1;33m.\u001b[0m\u001b[0marray\u001b[0m\u001b[1;33m(\u001b[0m\u001b[0mdankmemes\u001b[0m\u001b[1;33m.\u001b[0m\u001b[0mfastNlMeansDenoisingColored\u001b[0m\u001b[1;33m(\u001b[0m\u001b[0mdankmemes\u001b[0m\u001b[1;33m.\u001b[0m\u001b[0mimread\u001b[0m\u001b[1;33m(\u001b[0m\u001b[1;34mr\"C:\\Users\\Ani\\Documents\\Python Scripts\\image121.png\"\u001b[0m\u001b[1;33m)\u001b[0m\u001b[1;33m,\u001b[0m \u001b[1;32mNone\u001b[0m\u001b[1;33m,\u001b[0m \u001b[1;36m10\u001b[0m\u001b[1;33m,\u001b[0m \u001b[1;36m10\u001b[0m\u001b[1;33m,\u001b[0m \u001b[1;36m7\u001b[0m\u001b[1;33m,\u001b[0m \u001b[1;36m21\u001b[0m\u001b[1;33m)\u001b[0m\u001b[1;33m)\u001b[0m\u001b[1;33m)\u001b[0m\u001b[1;33m)\u001b[0m\u001b[1;33m.\u001b[0m\u001b[0mshow\u001b[0m\u001b[1;33m(\u001b[0m\u001b[1;33m)\u001b[0m\u001b[1;33m\u001b[0m\u001b[0m\n",
      "\u001b[1;31merror\u001b[0m: OpenCV(3.4.3) C:\\projects\\opencv-python\\opencv\\modules\\photo\\src\\denoising.cpp:183: error: (-5:Bad argument) Type of input image should be CV_8UC3 or CV_8UC4! in function 'cv::fastNlMeansDenoisingColored'\n"
     ]
    }
   ],
   "source": [
    "import os\n",
    "from PIL import Image\n",
    "import pytesseract\n",
    "import cv2 as dankmemes\n",
    "import numpy as np\n",
    "\n",
    "from symspellpy.symspellpy import SymSpell, Verbosity  # import the module\n",
    "\n",
    "def main():\n",
    "    \n",
    "    pytesseract.pytesseract.tesseract_cmd = r'C:\\Users\\Ani\\AppData\\Local\\Tesseract-OCR\\tesseract.exe'\n",
    "    text = (pytesseract.image_to_string(Image.fromarray(np.array(dankmemes.fastNlMeansDenoisingColored(dankmemes.imread(r\"C:\\Users\\Ani\\Documents\\Python Scripts\\image121.png\"), None, 10, 10, 7, 21)))))\n",
    "#   text = (pytesseract.image_to_string(Image.open(r\"C:\\Users\\Ani\\Documents\\Python Scripts\\image121.png\")))\n",
    "    (Image.fromarray(np.array(dankmemes.fastNlMeansDenoisingColored(dankmemes.imread(r\"C:\\Users\\Ani\\Documents\\Python Scripts\\image121.png\"), None, 10, 10, 7, 21)))).show()\n",
    "    print(text)\n",
    "    print()\n",
    "    print()\n",
    "    # maximum edit distance per dictionary precalculation\n",
    "    max_edit_distance_dictionary = 2\n",
    "    prefix_length = 7\n",
    "    # create object\n",
    "    sym_spell = SymSpell(max_edit_distance_dictionary, prefix_length)\n",
    "    # load dictionary\n",
    "    dictionary_path = os.path.join(os.path.dirname(r\"C:\\Users\\Ani\\Documents\\Python Scripts\\symspellpy.ipynb\"),\n",
    "                                   \"frequency_dictionary_en_82_765.txt\")\n",
    "    term_index = 0  # column of the term in the dictionary text file\n",
    "    count_index = 1  # column of the term frequency in the dictionary text file\n",
    "    if not sym_spell.load_dictionary(dictionary_path, term_index, count_index):\n",
    "        print(\"Dictionary file not found\")\n",
    "        return\n",
    "\n",
    "#     # lookup suggestions for single-word input strings\n",
    "#     input_term = \"memebers\"  # misspelling of \"members\"\n",
    "#     # max edit distance per lookup\n",
    "#     # (max_edit_distance_lookup <= max_edit_distance_dictionary)\n",
    "#     max_edit_distance_lookup = 2\n",
    "#     suggestion_verbosity = Verbosity.CLOSEST  # TOP, CLOSEST, ALL\n",
    "#     suggestions = sym_spell.lookup(input_term, suggestion_verbosity,\n",
    "#                                    max_edit_distance_lookup)\n",
    "#     # display suggestion term, term frequency, and edit distance\n",
    "#     for suggestion in suggestions:\n",
    "#         print(\"{}, {}, {}\".format(suggestion.term, suggestion.distance,\n",
    "#                                   suggestion.count))\n",
    "\n",
    "#     # lookup suggestions for multi-word input strings (supports compound\n",
    "#     # splitting & merging)\n",
    "    input_term = (\"whereis th elove hehad dated forImuch of thepast who \"\n",
    "                  \"couqdn'tread in sixtgrade and ins pired him\")\n",
    "    input_term = (\"ront tshi liptop si ocol\")\n",
    "    input_term = text\n",
    "    # max edit distance per lookup (per single word, not per whole input string)\n",
    "    max_edit_distance_lookup = 2\n",
    "    suggestions = sym_spell.lookup_compound(input_term,\n",
    "                                            max_edit_distance_lookup)\n",
    "    # display suggestion term, edit distance, and term frequency\n",
    "    for suggestion in suggestions:\n",
    "        print(\"{}, {}, {}\".format(suggestion.term, suggestion.distance,\n",
    "                                  suggestion.count))\n",
    "\n",
    "if __name__ == \"__main__\":\n",
    "    main()"
   ]
  },
  {
   "cell_type": "code",
   "execution_count": null,
   "metadata": {},
   "outputs": [],
   "source": []
  }
 ],
 "metadata": {
  "kernelspec": {
   "display_name": "Jupiter",
   "language": "python",
   "name": "env"
  },
  "language_info": {
   "codemirror_mode": {
    "name": "ipython",
    "version": 3
   },
   "file_extension": ".py",
   "mimetype": "text/x-python",
   "name": "python",
   "nbconvert_exporter": "python",
   "pygments_lexer": "ipython3",
   "version": "3.5.6"
  }
 },
 "nbformat": 4,
 "nbformat_minor": 2
}
